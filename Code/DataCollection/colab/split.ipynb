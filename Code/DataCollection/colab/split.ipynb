{
  "nbformat": 4,
  "nbformat_minor": 0,
  "metadata": {
    "colab": {
      "provenance": []
    },
    "kernelspec": {
      "name": "python3",
      "display_name": "Python 3"
    },
    "language_info": {
      "name": "python"
    }
  },
  "cells": [
    {
      "cell_type": "code",
      "execution_count": null,
      "metadata": {
        "colab": {
          "base_uri": "https://localhost:8080/"
        },
        "id": "UHjOVBkYrAWx",
        "outputId": "7d403031-21bf-4afe-a77f-c3e95f0fd03c"
      },
      "outputs": [
        {
          "output_type": "stream",
          "name": "stdout",
          "text": [
            "Drive already mounted at /content/gdrive; to attempt to forcibly remount, call drive.mount(\"/content/gdrive\", force_remount=True).\n"
          ]
        }
      ],
      "source": [
        "from google.colab import drive\n",
        "drive.mount('/content/gdrive')"
      ]
    },
    {
      "cell_type": "markdown",
      "source": [
        "Fare split: \n",
        "\n",
        "1.   80 - 20 train - test(e poi da 80 levi 10% (di 100) random) con stratified (cioè che ognuno dei tre gruppi ha stessa percentuale di etichette)\n",
        "2.   di nuovo stratified ma invece delle etichette, il sampling è fatto in base al partito\n",
        "3. un ultimo in cui i partiti politici che fan parte del training non stanno nel test\n",
        "\n",
        "In questo file viene fatta solo la 1"
      ],
      "metadata": {
        "id": "ktzfG0EgrBcO"
      }
    },
    {
      "cell_type": "code",
      "source": [
        "pip install scikit-learn"
      ],
      "metadata": {
        "id": "OWJm1crbrZ2U"
      },
      "execution_count": null,
      "outputs": []
    },
    {
      "cell_type": "code",
      "source": [
        " import numpy as np\n",
        " import json\n",
        " from sklearn.model_selection import StratifiedKFold\n",
        " from sklearn.model_selection import train_test_split"
      ],
      "metadata": {
        "id": "e1iDBrl0ulfC"
      },
      "execution_count": null,
      "outputs": []
    },
    {
      "cell_type": "code",
      "source": [
        "ds_file = \"/content/gdrive/MyDrive/Colab Notebooks/fakenews_data/github/join_d1.json\""
      ],
      "metadata": {
        "id": "w2c84H8guqw0"
      },
      "execution_count": null,
      "outputs": []
    },
    {
      "cell_type": "code",
      "source": [
        "apiContent = open(ds_file)\n",
        "data = json.load(apiContent)\n",
        "apiContent.close()"
      ],
      "metadata": {
        "id": "njLfBmczxv6f"
      },
      "execution_count": null,
      "outputs": []
    },
    {
      "cell_type": "code",
      "source": [
        "X = []\n",
        "Y = []\n",
        "\n",
        "for art in data:\n",
        "  Y.append(art[\"verdict\"])\n",
        "  X.append(art[\"statement\"])"
      ],
      "metadata": {
        "id": "fhLkdq2b92-T"
      },
      "execution_count": null,
      "outputs": []
    },
    {
      "cell_type": "code",
      "source": [
        "print(len(X))\n",
        "print(len(Y))\n",
        "print(len(data))"
      ],
      "metadata": {
        "colab": {
          "base_uri": "https://localhost:8080/"
        },
        "id": "F0DK7T3OASJX",
        "outputId": "4cbe54bf-24c7-40be-b35f-9ce3283076e3"
      },
      "execution_count": null,
      "outputs": [
        {
          "output_type": "stream",
          "name": "stdout",
          "text": [
            "3577\n",
            "3577\n",
            "3577\n"
          ]
        }
      ]
    },
    {
      "cell_type": "code",
      "source": [
        "v = 0\n",
        "f = 0\n",
        "n = 0\n",
        "\n",
        "for art in data:\n",
        "  if art[\"verdict\"] == \"Vero\":\n",
        "    v += 1\n",
        "  elif art[\"verdict\"] == \"Falso\":\n",
        "    f += 1\n",
        "  elif art[\"verdict\"] == \"Nì\":\n",
        "    n += 1\n",
        "\n",
        "print(v)\n",
        "print(n)\n",
        "print(f)\n",
        "print(len(data)==(v+f+n))"
      ],
      "metadata": {
        "colab": {
          "base_uri": "https://localhost:8080/"
        },
        "id": "aiHh9NDqLwpD",
        "outputId": "17f112c7-785a-47fa-918d-65c0a9c5fd46"
      },
      "execution_count": null,
      "outputs": [
        {
          "output_type": "stream",
          "name": "stdout",
          "text": [
            "1255\n",
            "1512\n",
            "810\n",
            "True\n"
          ]
        }
      ]
    },
    {
      "cell_type": "markdown",
      "source": [
        "lievemente biased verso il True, poche per il False"
      ],
      "metadata": {
        "id": "v_xoZrQAMTQK"
      }
    },
    {
      "cell_type": "markdown",
      "source": [
        "procediamo con svm, tf-idf per investigare bias negli statements"
      ],
      "metadata": {
        "id": "IAMypK2tHCgy"
      }
    },
    {
      "cell_type": "code",
      "source": [
        "import pandas as pd\n",
        "from sklearn.feature_extraction.text import TfidfVectorizer"
      ],
      "metadata": {
        "id": "5eY1QOKGIYJL"
      },
      "execution_count": null,
      "outputs": []
    },
    {
      "cell_type": "code",
      "source": [
        "tfIdfVectorizer=TfidfVectorizer(use_idf=True)\n",
        "tfIdf = tfIdfVectorizer.fit_transform(X)\n",
        "df = pd.DataFrame(tfIdf[1].T.todense(), index=tfIdfVectorizer.get_feature_names_out(), columns=[\"TF-IDF\"])\n",
        "df = df.sort_values('TF-IDF', ascending=False)\n",
        "print (df.head(25))\n",
        "\n",
        "# the TF-IDF value increases with every appearance of the word in a document, but is gradually decreased with every appearance in other documents\n",
        "# define how important a word is for a document"
      ],
      "metadata": {
        "id": "o7UPEP0VIbWy"
      },
      "execution_count": null,
      "outputs": []
    },
    {
      "cell_type": "code",
      "source": [
        "tfidf = TfidfVectorizer(sublinear_tf=True, min_df=5, norm='l2', encoding='latin-1', ngram_range=(1, 2))\n",
        "features = tfidf.fit_transform(X).toarray()\n",
        "labels = Y\n",
        "features.shape"
      ],
      "metadata": {
        "colab": {
          "base_uri": "https://localhost:8080/"
        },
        "id": "RQoAdXM0MsD9",
        "outputId": "44a9ade2-08a8-4f21-898b-6303758539da"
      },
      "execution_count": null,
      "outputs": [
        {
          "output_type": "execute_result",
          "data": {
            "text/plain": [
              "(3577, 4284)"
            ]
          },
          "metadata": {},
          "execution_count": 69
        }
      ]
    },
    {
      "cell_type": "markdown",
      "source": [
        " ognuno dei 3577 verdetti è rapresentato da 4284 features, che rappresentano il tf idf score di unigrammi e bigrammi"
      ],
      "metadata": {
        "id": "L3auWkFQNX3k"
      }
    },
    {
      "cell_type": "code",
      "source": [
        "#Ensure that the labels are encoded as numerical values, such as integers or one-hot encoding\n",
        "def numerazione(Y):\n",
        "  Y1 = []\n",
        "  for esito in Y:\n",
        "    if esito == \"Vero\":\n",
        "      Y1.append(0)\n",
        "    elif esito == \"Falso\":\n",
        "      Y1.append(2)\n",
        "    elif esito == \"Nì\":\n",
        "      Y1.append(1)\n",
        "  return Y1\n",
        "\n",
        "Y1 = numerazione(Y)"
      ],
      "metadata": {
        "id": "BaXQTeonPwsR"
      },
      "execution_count": null,
      "outputs": []
    },
    {
      "cell_type": "code",
      "source": [
        "from sklearn.feature_selection import chi2\n",
        "import numpy as np"
      ],
      "metadata": {
        "id": "d19q3T36QRmW"
      },
      "execution_count": null,
      "outputs": []
    },
    {
      "cell_type": "code",
      "source": [
        "chi2_stat, p_values = chi2(features, Y1)"
      ],
      "metadata": {
        "id": "8-dMOyLzQPde"
      },
      "execution_count": null,
      "outputs": []
    },
    {
      "cell_type": "code",
      "source": [
        "feature_names = tfidf.get_feature_names_out()\n",
        "correlated_terms = [(feature_names[i], chi2_stat[i]) for i in range(len(feature_names))]\n",
        "correlated_terms.sort(key=lambda x: x[1], reverse=True)"
      ],
      "metadata": {
        "id": "J6emFsiAQZtM"
      },
      "execution_count": null,
      "outputs": []
    },
    {
      "cell_type": "code",
      "source": [
        "label_values = [0,1,2]\n",
        "label_names = [\"Vero\", \"Nì\", \"Falso\"]\n",
        "N = 10\n",
        "for label in label_values:\n",
        "\n",
        "  features_chi2 = chi2(features, np.logical_and(Y1,label))\n",
        "  indices = np.argsort(features_chi2[0])\n",
        "\n",
        "  feature_names = np.array(tfidf.get_feature_names_out())[indices]\n",
        "\n",
        "  unigrams = [v for v in feature_names if len(v.split(' ')) == 1]\n",
        "  bigrams = [v for v in feature_names if len(v.split(' ')) == 2]\n",
        "  \n",
        "  print(\"# '{}':\".format(label_names[label]))\n",
        "  print(\"  . Most correlated unigrams:\\n. {}\".format('\\n. '.join(unigrams[-N:])))\n",
        "  print(\"  . Most correlated bigrams:\\n. {}\".format('\\n. '.join(bigrams[-N:])))"
      ],
      "metadata": {
        "id": "9zEQ6dVbc9Y1"
      },
      "execution_count": null,
      "outputs": []
    },
    {
      "cell_type": "markdown",
      "source": [
        "parte 2"
      ],
      "metadata": {
        "id": "htupiUrbiXnP"
      }
    },
    {
      "cell_type": "code",
      "source": [
        "tfidf = TfidfVectorizer(sublinear_tf=True, min_df=5, norm='l2', encoding='latin-1', ngram_range=(1, 2))\n",
        "features = tfidf.fit_transform(X).toarray()\n",
        "features.shape"
      ],
      "metadata": {
        "colab": {
          "base_uri": "https://localhost:8080/"
        },
        "id": "nTDJXWrriQvj",
        "outputId": "826e7f4e-f552-48a8-861f-d2a404507de9"
      },
      "execution_count": null,
      "outputs": [
        {
          "output_type": "execute_result",
          "data": {
            "text/plain": [
              "(3577, 4284)"
            ]
          },
          "metadata": {},
          "execution_count": 145
        }
      ]
    },
    {
      "cell_type": "code",
      "source": [
        "#Ensure that the labels are encoded as numerical values, such as integers or one-hot encoding\n",
        "Y1 = []\n",
        "for esito in Y:\n",
        "  if esito == \"Vero\":\n",
        "    Y1.append(0)\n",
        "  elif esito == \"Falso\":\n",
        "    Y1.append(2)\n",
        "  elif esito == \"Nì\":\n",
        "    Y1.append(1)"
      ],
      "metadata": {
        "id": "Hk9pRhUjnvnI"
      },
      "execution_count": null,
      "outputs": []
    },
    {
      "cell_type": "code",
      "source": [
        "X_train, X_test, y_train, y_test = train_test_split(features,Y1, test_size=0.1, train_size=0.9, random_state=7, shuffle=True, stratify=Y1)\n",
        "# Y1 : lista dei verdetti in formato int"
      ],
      "metadata": {
        "id": "JDNL34ebki42"
      },
      "execution_count": null,
      "outputs": []
    },
    {
      "cell_type": "code",
      "source": [
        "#from imblearn.over_sampling import RandomOverSampler\n",
        "#X_train, y_train = RandomOverSampler(random_state=123).fit_resample(X_train, y_train)\n",
        "#potrebbe risultare utile per bilanciare i falsi che sono pochi"
      ],
      "metadata": {
        "id": "bv8JTYnii1ZN"
      },
      "execution_count": null,
      "outputs": []
    },
    {
      "cell_type": "code",
      "source": [
        "#Import svm model\n",
        "from sklearn import svm\n",
        "\n",
        "#Create a svm Classifier\n",
        "clf = svm.SVC(random_state=123, kernel='linear') # Linear Kernel"
      ],
      "metadata": {
        "id": "y3GUeb6wFrUq"
      },
      "execution_count": null,
      "outputs": []
    },
    {
      "cell_type": "code",
      "source": [
        "clf.fit(X_train,y_train)"
      ],
      "metadata": {
        "colab": {
          "base_uri": "https://localhost:8080/",
          "height": 74
        },
        "id": "I9ViSCt0jUm1",
        "outputId": "0055a578-993d-4bed-884e-de172b0244bc"
      },
      "execution_count": null,
      "outputs": [
        {
          "output_type": "execute_result",
          "data": {
            "text/plain": [
              "SVC(kernel='linear', random_state=123)"
            ],
            "text/html": [
              "<style>#sk-container-id-4 {color: black;background-color: white;}#sk-container-id-4 pre{padding: 0;}#sk-container-id-4 div.sk-toggleable {background-color: white;}#sk-container-id-4 label.sk-toggleable__label {cursor: pointer;display: block;width: 100%;margin-bottom: 0;padding: 0.3em;box-sizing: border-box;text-align: center;}#sk-container-id-4 label.sk-toggleable__label-arrow:before {content: \"▸\";float: left;margin-right: 0.25em;color: #696969;}#sk-container-id-4 label.sk-toggleable__label-arrow:hover:before {color: black;}#sk-container-id-4 div.sk-estimator:hover label.sk-toggleable__label-arrow:before {color: black;}#sk-container-id-4 div.sk-toggleable__content {max-height: 0;max-width: 0;overflow: hidden;text-align: left;background-color: #f0f8ff;}#sk-container-id-4 div.sk-toggleable__content pre {margin: 0.2em;color: black;border-radius: 0.25em;background-color: #f0f8ff;}#sk-container-id-4 input.sk-toggleable__control:checked~div.sk-toggleable__content {max-height: 200px;max-width: 100%;overflow: auto;}#sk-container-id-4 input.sk-toggleable__control:checked~label.sk-toggleable__label-arrow:before {content: \"▾\";}#sk-container-id-4 div.sk-estimator input.sk-toggleable__control:checked~label.sk-toggleable__label {background-color: #d4ebff;}#sk-container-id-4 div.sk-label input.sk-toggleable__control:checked~label.sk-toggleable__label {background-color: #d4ebff;}#sk-container-id-4 input.sk-hidden--visually {border: 0;clip: rect(1px 1px 1px 1px);clip: rect(1px, 1px, 1px, 1px);height: 1px;margin: -1px;overflow: hidden;padding: 0;position: absolute;width: 1px;}#sk-container-id-4 div.sk-estimator {font-family: monospace;background-color: #f0f8ff;border: 1px dotted black;border-radius: 0.25em;box-sizing: border-box;margin-bottom: 0.5em;}#sk-container-id-4 div.sk-estimator:hover {background-color: #d4ebff;}#sk-container-id-4 div.sk-parallel-item::after {content: \"\";width: 100%;border-bottom: 1px solid gray;flex-grow: 1;}#sk-container-id-4 div.sk-label:hover label.sk-toggleable__label {background-color: #d4ebff;}#sk-container-id-4 div.sk-serial::before {content: \"\";position: absolute;border-left: 1px solid gray;box-sizing: border-box;top: 0;bottom: 0;left: 50%;z-index: 0;}#sk-container-id-4 div.sk-serial {display: flex;flex-direction: column;align-items: center;background-color: white;padding-right: 0.2em;padding-left: 0.2em;position: relative;}#sk-container-id-4 div.sk-item {position: relative;z-index: 1;}#sk-container-id-4 div.sk-parallel {display: flex;align-items: stretch;justify-content: center;background-color: white;position: relative;}#sk-container-id-4 div.sk-item::before, #sk-container-id-4 div.sk-parallel-item::before {content: \"\";position: absolute;border-left: 1px solid gray;box-sizing: border-box;top: 0;bottom: 0;left: 50%;z-index: -1;}#sk-container-id-4 div.sk-parallel-item {display: flex;flex-direction: column;z-index: 1;position: relative;background-color: white;}#sk-container-id-4 div.sk-parallel-item:first-child::after {align-self: flex-end;width: 50%;}#sk-container-id-4 div.sk-parallel-item:last-child::after {align-self: flex-start;width: 50%;}#sk-container-id-4 div.sk-parallel-item:only-child::after {width: 0;}#sk-container-id-4 div.sk-dashed-wrapped {border: 1px dashed gray;margin: 0 0.4em 0.5em 0.4em;box-sizing: border-box;padding-bottom: 0.4em;background-color: white;}#sk-container-id-4 div.sk-label label {font-family: monospace;font-weight: bold;display: inline-block;line-height: 1.2em;}#sk-container-id-4 div.sk-label-container {text-align: center;}#sk-container-id-4 div.sk-container {/* jupyter's `normalize.less` sets `[hidden] { display: none; }` but bootstrap.min.css set `[hidden] { display: none !important; }` so we also need the `!important` here to be able to override the default hidden behavior on the sphinx rendered scikit-learn.org. See: https://github.com/scikit-learn/scikit-learn/issues/21755 */display: inline-block !important;position: relative;}#sk-container-id-4 div.sk-text-repr-fallback {display: none;}</style><div id=\"sk-container-id-4\" class=\"sk-top-container\"><div class=\"sk-text-repr-fallback\"><pre>SVC(kernel=&#x27;linear&#x27;, random_state=123)</pre><b>In a Jupyter environment, please rerun this cell to show the HTML representation or trust the notebook. <br />On GitHub, the HTML representation is unable to render, please try loading this page with nbviewer.org.</b></div><div class=\"sk-container\" hidden><div class=\"sk-item\"><div class=\"sk-estimator sk-toggleable\"><input class=\"sk-toggleable__control sk-hidden--visually\" id=\"sk-estimator-id-4\" type=\"checkbox\" checked><label for=\"sk-estimator-id-4\" class=\"sk-toggleable__label sk-toggleable__label-arrow\">SVC</label><div class=\"sk-toggleable__content\"><pre>SVC(kernel=&#x27;linear&#x27;, random_state=123)</pre></div></div></div></div></div>"
            ]
          },
          "metadata": {},
          "execution_count": 149
        }
      ]
    },
    {
      "cell_type": "code",
      "source": [
        "print(\"Accuracy score {:.2f} %\\n\".format(clf.score(X_test,y_test)*100))"
      ],
      "metadata": {
        "colab": {
          "base_uri": "https://localhost:8080/"
        },
        "id": "lcTOEhiKjdSO",
        "outputId": "2035b625-7d09-44bd-c79c-3a2c66a03686"
      },
      "execution_count": null,
      "outputs": [
        {
          "output_type": "stream",
          "name": "stdout",
          "text": [
            "Accuracy score 40.22 %\n",
            "\n"
          ]
        }
      ]
    },
    {
      "cell_type": "markdown",
      "source": [
        "**FASE 2.5: AGGIUNGENDO IL POLITICO CAMBIA QUALCOSA?**"
      ],
      "metadata": {
        "id": "Yna8lzkjv9Os"
      }
    },
    {
      "cell_type": "code",
      "source": [
        "X1 = []\n",
        "X2 = []\n",
        "Y = []\n",
        "\n",
        "for art in data:\n",
        "  Y.append(art[\"verdict\"])\n",
        "  X1.append(art[\"statement\"])\n",
        "  X2.append(art[\"politician\"])\n",
        "#Ensure that the labels are encoded as numerical values, such as integers or one-hot encoding\n",
        "Y1 = []\n",
        "for esito in Y:\n",
        "  if esito == \"Vero\":\n",
        "    Y1.append(0)\n",
        "  elif esito == \"Falso\":\n",
        "    Y1.append(2)\n",
        "  elif esito == \"Nì\":\n",
        "    Y1.append(1)"
      ],
      "metadata": {
        "id": "z1obFFiAwDQt"
      },
      "execution_count": null,
      "outputs": []
    },
    {
      "cell_type": "code",
      "source": [
        "from sklearn.feature_extraction.text import TfidfVectorizer\n",
        "tfidf = TfidfVectorizer(sublinear_tf=True, min_df=1, ngram_range=(1, 2))\n",
        "X1 = tfidf.fit_transform(X1)\n",
        "tfidf2 = TfidfVectorizer(sublinear_tf=True, min_df=1, ngram_range=(2, 3))\n",
        "X2 = tfidf2.fit_transform(X2)\n",
        "\n",
        "df = pd.DataFrame({'A': [X1], 'B': [X2]})"
      ],
      "metadata": {
        "id": "l2FRxPKh1qPx"
      },
      "execution_count": null,
      "outputs": []
    },
    {
      "cell_type": "code",
      "source": [
        "X1.shape"
      ],
      "metadata": {
        "colab": {
          "base_uri": "https://localhost:8080/"
        },
        "id": "iFJOVtp_3pZh",
        "outputId": "e48c43b2-6f01-4d7e-875a-f297284ff684"
      },
      "execution_count": null,
      "outputs": [
        {
          "output_type": "execute_result",
          "data": {
            "text/plain": [
              "(3577, 61832)"
            ]
          },
          "metadata": {},
          "execution_count": 43
        }
      ]
    },
    {
      "cell_type": "code",
      "source": [
        "X2.shape"
      ],
      "metadata": {
        "colab": {
          "base_uri": "https://localhost:8080/"
        },
        "id": "n_6a1Fpr3169",
        "outputId": "3ea7fe4a-c115-407c-8cba-f49ee7da60bc"
      },
      "execution_count": null,
      "outputs": [
        {
          "output_type": "execute_result",
          "data": {
            "text/plain": [
              "(3577, 369)"
            ]
          },
          "metadata": {},
          "execution_count": 44
        }
      ]
    },
    {
      "cell_type": "code",
      "source": [
        "X_train, X_test, y_train, y_test = train_test_split(df,Y1, test_size=0.1, train_size=0.9, random_state=7, shuffle=True, stratify=Y1)"
      ],
      "metadata": {
        "id": "uTVkg4wE0w4V"
      },
      "execution_count": null,
      "outputs": []
    },
    {
      "cell_type": "code",
      "source": [
        "#Import svm model\n",
        "from sklearn import svm\n",
        "\n",
        "#Create a svm Classifier\n",
        "clf = svm.SVC(random_state=123, kernel='linear') # Linear Kernel"
      ],
      "metadata": {
        "id": "n6r5Yr6x1A_W"
      },
      "execution_count": null,
      "outputs": []
    },
    {
      "cell_type": "code",
      "source": [
        "clf.fit(X_train,y_train)"
      ],
      "metadata": {
        "id": "W1W_p0iy1DNy"
      },
      "execution_count": null,
      "outputs": []
    },
    {
      "cell_type": "code",
      "source": [
        "print(\"Accuracy score {:.2f} %\\n\".format(clf.score(X_test,y_test)*100))"
      ],
      "metadata": {
        "id": "E7uLPJ831HsQ"
      },
      "execution_count": null,
      "outputs": []
    },
    {
      "cell_type": "markdown",
      "source": [
        "**FASE 3:  RANKING TASK**\n",
        "\n",
        "dato il claim noi abbiamo una quantità di testi associata che spiega perchè è vero o falso. questo testo (content) è rilevante per questo claim. l'algoritmo deve imparare a riconoscere data una frase quale contenuto ampio è il più simile.\n",
        "test:\n",
        "input: lista di claim, lista di spiegazioni\n",
        "associare claim a spiegazione\n",
        "valutazione: recall impossibile da stabilire perchè la recall è il mondo esterno. recall alta = sovrageneralizzazione, la recall perfetta è 1.\n",
        "per i task di ranking si guarda la 'mean average precision a x' : ranking di tutti i testi e poi verifichi se il documento corretto è nei primi x testi.\n",
        "\n",
        "imbellimento: tool di generazione che cambia il claim in modo molto simile ma non esattamente la stessa\n"
      ],
      "metadata": {
        "id": "VVHQ8EbUvvd9"
      }
    },
    {
      "cell_type": "code",
      "source": [
        "apiContent = open(ds_file)\n",
        "data = json.load(apiContent)\n",
        "apiContent.close()"
      ],
      "metadata": {
        "id": "YaRG12ZKPFBY"
      },
      "execution_count": null,
      "outputs": []
    },
    {
      "cell_type": "code",
      "source": [
        "X = []\n",
        "Y = []\n",
        "Y_frasi = []\n",
        "\n",
        "# X -> statements\n",
        "# Y -> contents\n",
        "\n",
        "for art in data:\n",
        "  X.append(art[\"statement\"])\n",
        "  Y_frasi.append(art[\"content\"])\n",
        "  Y.append(' '.join(art[\"content\"]))\n",
        "\n",
        "print(len(Y))"
      ],
      "metadata": {
        "colab": {
          "base_uri": "https://localhost:8080/"
        },
        "id": "L4XteyT7PLV7",
        "outputId": "dd8acbf4-076c-4f04-d6f0-654242ef5187"
      },
      "execution_count": null,
      "outputs": [
        {
          "output_type": "stream",
          "name": "stdout",
          "text": [
            "3577\n"
          ]
        }
      ]
    },
    {
      "cell_type": "code",
      "source": [
        "Y"
      ],
      "metadata": {
        "id": "E0IpUsp6RG3u"
      },
      "execution_count": null,
      "outputs": []
    },
    {
      "cell_type": "code",
      "source": [
        "from sklearn.feature_extraction.text import TfidfVectorizer\n",
        "tfidf = TfidfVectorizer(sublinear_tf=True, min_df=1, ngram_range=(1, 2))\n",
        "X_tfidf = tfidf.fit_transform(X).toarray()"
      ],
      "metadata": {
        "id": "7_8GmalLQkvv"
      },
      "execution_count": null,
      "outputs": []
    },
    {
      "cell_type": "code",
      "source": [
        "Y_tfidf = tfidf.fit_transform(Y).toarray()"
      ],
      "metadata": {
        "id": "s6BlaOeTRDGd"
      },
      "execution_count": null,
      "outputs": []
    },
    {
      "cell_type": "code",
      "source": [
        "X_train, X_test, y_train, y_test = train_test_split(X_tfidf,Y_tfidf, test_size=0.1, train_size=0.9, random_state=7, shuffle=True, stratify=Y_tfidf)"
      ],
      "metadata": {
        "id": "rZzUnVaxQ69O"
      },
      "execution_count": null,
      "outputs": []
    },
    {
      "cell_type": "code",
      "source": [
        "#Import svm model\n",
        "from sklearn import svm\n",
        "\n",
        "#Create a svm Classifier\n",
        "clf = svm.SVC(random_state=123, kernel='linear') # Linear Kernel"
      ],
      "metadata": {
        "id": "WSnknTNpSwaj"
      },
      "execution_count": null,
      "outputs": []
    },
    {
      "cell_type": "code",
      "source": [
        "clf.fit(X_train,y_train)"
      ],
      "metadata": {
        "id": "5NAMKWLgS0Pv"
      },
      "execution_count": null,
      "outputs": []
    },
    {
      "cell_type": "code",
      "source": [
        "print(\"Accuracy score {:.2f} %\\n\".format(clf.score(X_test,y_test)*100))"
      ],
      "metadata": {
        "id": "N_Xv3B9JS3Dy"
      },
      "execution_count": null,
      "outputs": []
    }
  ]
}